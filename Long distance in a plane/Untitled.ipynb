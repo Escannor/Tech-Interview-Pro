{
 "cells": [
  {
   "cell_type": "code",
   "execution_count": 7,
   "metadata": {},
   "outputs": [
    {
     "name": "stdout",
     "output_type": "stream",
     "text": [
      "14.0\n",
      "D\n",
      "A\n"
     ]
    }
   ],
   "source": [
    "class Point:\n",
    "    '''Object Point'''\n",
    "    def __init__(self, name, x, y):\n",
    "        self.name = name\n",
    "        self.x = x\n",
    "        self.y = y\n",
    "\n",
    "def Solution(listPoints):\n",
    "    '''Return de max Distance, and de pair of points'''\n",
    "    maxX=minX=maxY=minY = listPoints[0]\n",
    "\n",
    "    #print(maxX.name,minX.name,maxY.name,minY.name)\n",
    "    for point in listPoints:\n",
    "        if point.x > maxX.x:\n",
    "            maxX = point\n",
    "        if point.x < minX.x:\n",
    "            minX = point\n",
    "        if point.y > maxY.y:\n",
    "            maxY = point\n",
    "        if point.x < minY.y:\n",
    "            maxX = point\n",
    "        \n",
    "    A = maxX\n",
    "    B = minX\n",
    "    maxDistance = 0\n",
    "    listCompare = [(maxX,minX), (maxX,maxY), (maxX,minY), (minX,maxY), (minX,minY),(maxY,minY)]\n",
    "    for compare in listCompare:\n",
    "        \n",
    "        newDistance = Distance(compare[0],compare[1])\n",
    "        if maxDistance < newDistance:\n",
    "            maxDistance = newDistance\n",
    "            A,B = compare\n",
    "\n",
    "    return maxDistance,A,B\n",
    "\n",
    "def Distance(A,B):\n",
    "    X = abs(A.x-B.x)\n",
    "    Y = abs(A.y-B.y)\n",
    "    return ( (X**2) + (Y**2) )**(1/2)\n",
    "    \n",
    "\n",
    "A = Point('A',-10,7)\n",
    "B = Point('B',-9,-6)\n",
    "C = Point('C',7,5)\n",
    "D = Point('D',-10,-7)\n",
    "\n",
    "listPoints = [A,B,C,D]\n",
    "\n",
    "output = Solution(listPoints)\n",
    "print(output[0])\n",
    "print(output[1].name)\n",
    "print(output[2].name)\n",
    "\n"
   ]
  },
  {
   "cell_type": "code",
   "execution_count": 2,
   "metadata": {},
   "outputs": [
    {
     "data": {
      "text/plain": [
       "<__main__.Point at 0x2066e750cc8>"
      ]
     },
     "execution_count": 2,
     "metadata": {},
     "output_type": "execute_result"
    }
   ],
   "source": [
    "E = Point('E',5,5)\n",
    "E\n"
   ]
  },
  {
   "cell_type": "code",
   "execution_count": 4,
   "metadata": {},
   "outputs": [
    {
     "data": {
      "text/plain": [
       "5"
      ]
     },
     "execution_count": 4,
     "metadata": {},
     "output_type": "execute_result"
    }
   ],
   "source": [
    "E.x\n"
   ]
  },
  {
   "cell_type": "code",
   "execution_count": null,
   "metadata": {},
   "outputs": [],
   "source": []
  }
 ],
 "metadata": {
  "kernelspec": {
   "display_name": "Python 3",
   "language": "python",
   "name": "python3"
  },
  "language_info": {
   "codemirror_mode": {
    "name": "ipython",
    "version": 3
   },
   "file_extension": ".py",
   "mimetype": "text/x-python",
   "name": "python",
   "nbconvert_exporter": "python",
   "pygments_lexer": "ipython3",
   "version": "3.7.4"
  }
 },
 "nbformat": 4,
 "nbformat_minor": 2
}
